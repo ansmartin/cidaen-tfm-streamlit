{
 "cells": [
  {
   "cell_type": "code",
   "execution_count": 1,
   "id": "c5f5475a-eb6b-45b3-a1ba-f21371cf47a0",
   "metadata": {},
   "outputs": [],
   "source": [
    "import requests\n",
    "import json\n",
    "import pandas as pd\n",
    "import re\n",
    "import os\n",
    "import time"
   ]
  },
  {
   "cell_type": "code",
   "execution_count": 2,
   "id": "05b20719-4ae2-4d45-9eac-a4bdc88dcaf1",
   "metadata": {},
   "outputs": [],
   "source": [
    "#pd.set_option('display.max_rows', None)\n",
    "pd.set_option('display.max_columns', None)"
   ]
  },
  {
   "cell_type": "code",
   "execution_count": 3,
   "id": "2498c465-9f38-41fd-b17f-cf8a49dff6a7",
   "metadata": {},
   "outputs": [],
   "source": [
    "api_url = 'https://pokeapi.co/api/v2'"
   ]
  },
  {
   "cell_type": "code",
   "execution_count": 4,
   "id": "5be08ee9-a3df-4ca7-8488-cc4c6ad29625",
   "metadata": {},
   "outputs": [],
   "source": [
    "table = ''\n",
    "path = ''"
   ]
  },
  {
   "cell_type": "code",
   "execution_count": 5,
   "id": "9cb4c0e4-ee0c-4243-af25-807140ce2648",
   "metadata": {},
   "outputs": [],
   "source": [
    "def create_folder(path):\n",
    "    if not os.path.exists(path):\n",
    "       os.makedirs(path)"
   ]
  },
  {
   "cell_type": "code",
   "execution_count": 6,
   "id": "e6e13ce2-17a1-474d-9786-1933d3d2c2ec",
   "metadata": {},
   "outputs": [],
   "source": [
    "def get_json(url, params={}):\n",
    "    try:\n",
    "        response = requests.get(url, params)\n",
    "        return response.json()\n",
    "        \n",
    "    except Exception as error:\n",
    "        print(\"An exception occurred:\", error)"
   ]
  },
  {
   "cell_type": "code",
   "execution_count": 7,
   "id": "c44adab0-2675-458b-9cb6-b3986caa2be1",
   "metadata": {},
   "outputs": [],
   "source": [
    "def save_json(path, filename, data):\n",
    "    try:\n",
    "        with open(f'{path}/{filename}.json', 'w') as f:\n",
    "            json.dump(data, f)\n",
    "            print(f'file {filename} saved')\n",
    "            \n",
    "    except Exception as error:\n",
    "        print(\"An exception occurred:\", error)"
   ]
  },
  {
   "cell_type": "code",
   "execution_count": 8,
   "id": "232094be-a9dd-49e3-acf6-7b8de7f16a54",
   "metadata": {},
   "outputs": [],
   "source": [
    "def get_resource_name(url):\n",
    "    try:\n",
    "        name = re.search(r'/(\\d+)', url).group(1)\n",
    "    except Exception as error:\n",
    "        print(\"An exception occurred:\", error)\n",
    "        name = 'default'\n",
    "        \n",
    "    return name"
   ]
  },
  {
   "cell_type": "code",
   "execution_count": 9,
   "id": "3db8dc96-e45b-4908-b29e-4109358560b1",
   "metadata": {},
   "outputs": [],
   "source": [
    "def download_multiple_data(path, url_list):\n",
    "    for url in url_list:\n",
    "        # get data\n",
    "        data = get_json(url)\n",
    "        filename = get_resource_name(url)\n",
    "        \n",
    "        # save data\n",
    "        save_json(path, filename, data)\n",
    "\n",
    "        # wait\n",
    "        time.sleep(2)"
   ]
  },
  {
   "cell_type": "code",
   "execution_count": 10,
   "id": "bce8f267-cfb8-4aad-9ad3-24bd4e4d36c5",
   "metadata": {},
   "outputs": [],
   "source": [
    "def get_data(table, begin, end):\n",
    "    \n",
    "    with open(f'./raw/{table}/{table}.json', 'r') as f:\n",
    "        data_jsons = json.load(f)\n",
    "\n",
    "    url_list = [ x['url'] for x in data_jsons['results'] ]\n",
    "    \n",
    "    begin=begin-1\n",
    "    if(begin < 0):\n",
    "        begin=0\n",
    "\n",
    "    if(end > len(url_list)):\n",
    "        end = len(url_list)\n",
    "        \n",
    "    url_list = url_list[begin : end]\n",
    "    \n",
    "    path = f'./raw/{table}/data'\n",
    "    create_folder(path)\n",
    "    \n",
    "    download_multiple_data(path, url_list)"
   ]
  },
  {
   "cell_type": "code",
   "execution_count": 11,
   "id": "c56918f4-2230-4763-86c9-cc78aae280c9",
   "metadata": {},
   "outputs": [],
   "source": [
    "def load_jsonfile(path, name):\n",
    "    with open(f'{path}/{name}', 'r') as f:\n",
    "        return json.load(f)\n",
    "\n",
    "\n",
    "def get_dataframe_from_jsonfiles(path, file_list):\n",
    "    try:\n",
    "        json_list = [ load_jsonfile(path, x) for x in file_list ]\n",
    "        \n",
    "        df = pd.DataFrame(json_list) #pd.json_normalize(json_list, sep='_')\n",
    "        \n",
    "        return df\n",
    "        \n",
    "    except Exception as error:\n",
    "        print(\"An exception occurred:\", error)"
   ]
  },
  {
   "cell_type": "markdown",
   "id": "886e87fa-2f22-4d74-a74a-ef839bbdbae8",
   "metadata": {},
   "source": [
    "---\n",
    "## EXTRACCIÓN DE TODAS LAS URLS PARA CADA ENDPOINT"
   ]
  },
  {
   "cell_type": "code",
   "execution_count": 12,
   "id": "7211de6f-5c6b-420c-9eeb-a2ce037e3830",
   "metadata": {},
   "outputs": [],
   "source": [
    "# tabla POKEMON"
   ]
  },
  {
   "cell_type": "code",
   "execution_count": 4,
   "id": "11536617-9ead-4eec-89b3-94731c77e988",
   "metadata": {},
   "outputs": [],
   "source": [
    "table = 'pokemon'"
   ]
  },
  {
   "cell_type": "code",
   "execution_count": 5,
   "id": "f40f859b-2141-4a1e-a25f-02d9960b7572",
   "metadata": {},
   "outputs": [],
   "source": [
    "data = get_json( \n",
    "    url = f'{api_url}/{table}'\n",
    ")"
   ]
  },
  {
   "cell_type": "code",
   "execution_count": 8,
   "id": "c12b8ece-3893-413e-9144-d60a8f89631b",
   "metadata": {},
   "outputs": [
    {
     "data": {
      "text/plain": [
       "1302"
      ]
     },
     "execution_count": 8,
     "metadata": {},
     "output_type": "execute_result"
    }
   ],
   "source": [
    "count = data['count']\n",
    "count"
   ]
  },
  {
   "cell_type": "code",
   "execution_count": 9,
   "id": "45fe97ec-c938-4b20-af39-748d983bcc8f",
   "metadata": {},
   "outputs": [],
   "source": [
    "data = get_json(\n",
    "    url = f'{api_url}/{table}', \n",
    "    params = {'offset':0, 'limit':count}\n",
    ")"
   ]
  },
  {
   "cell_type": "code",
   "execution_count": 19,
   "id": "13d21c31-a2a3-4f10-a301-05da6a0f8562",
   "metadata": {},
   "outputs": [],
   "source": [
    "path = f'./raw/{table}'\n",
    "create_folder(path)\n",
    "filename = table\n",
    "\n",
    "save_json(path, filename, data)"
   ]
  },
  {
   "cell_type": "code",
   "execution_count": null,
   "id": "a3fce763-0cd3-45f6-a786-ae5cc8f9ffc2",
   "metadata": {},
   "outputs": [],
   "source": [
    "# tabla POKEMON FORMS"
   ]
  },
  {
   "cell_type": "code",
   "execution_count": 16,
   "id": "d7f6c512-028d-4629-ac8b-b2656b0be6b5",
   "metadata": {},
   "outputs": [],
   "source": [
    "table = 'pokemon-form'"
   ]
  },
  {
   "cell_type": "code",
   "execution_count": 17,
   "id": "4d533400-536d-4322-bb29-a61a77be5558",
   "metadata": {},
   "outputs": [],
   "source": [
    "data = get_json( \n",
    "    url = f'{api_url}/{table}'\n",
    ")"
   ]
  },
  {
   "cell_type": "code",
   "execution_count": 18,
   "id": "3a2759b5-f467-4a40-afd4-3da8fdc14752",
   "metadata": {},
   "outputs": [
    {
     "data": {
      "text/plain": [
       "1527"
      ]
     },
     "execution_count": 18,
     "metadata": {},
     "output_type": "execute_result"
    }
   ],
   "source": [
    "count = data['count']\n",
    "count"
   ]
  },
  {
   "cell_type": "code",
   "execution_count": 19,
   "id": "b8c31b82-6972-4849-bc6f-4b61c10347f9",
   "metadata": {},
   "outputs": [],
   "source": [
    "data = get_json(\n",
    "    url = f'{api_url}/{table}', \n",
    "    params = {'offset':0, 'limit':count}\n",
    ")"
   ]
  },
  {
   "cell_type": "code",
   "execution_count": 21,
   "id": "d6c61cbe-f888-406c-abb7-488e2aba474e",
   "metadata": {},
   "outputs": [
    {
     "name": "stdout",
     "output_type": "stream",
     "text": [
      "file pokemon-form saved\n"
     ]
    }
   ],
   "source": [
    "path = f'./raw/{table}'\n",
    "create_folder(path)\n",
    "filename = table\n",
    "\n",
    "save_json(path, filename, data)"
   ]
  },
  {
   "cell_type": "code",
   "execution_count": null,
   "id": "201f8760-796a-4313-863d-dca410e0abed",
   "metadata": {},
   "outputs": [],
   "source": [
    "# tabla POKEMON-SPECIES"
   ]
  },
  {
   "cell_type": "code",
   "execution_count": 20,
   "id": "84e11cd8-c2c0-4912-919f-5d4762c909e0",
   "metadata": {},
   "outputs": [],
   "source": [
    "table = 'pokemon-species'\n",
    "\n",
    "data = get_json(\n",
    "    url = f'{api_url}/{table}'\n",
    ")"
   ]
  },
  {
   "cell_type": "code",
   "execution_count": 21,
   "id": "f1fc8122-5fc9-4c03-84aa-2dc8ae4cddeb",
   "metadata": {},
   "outputs": [
    {
     "data": {
      "text/plain": [
       "1025"
      ]
     },
     "execution_count": 21,
     "metadata": {},
     "output_type": "execute_result"
    }
   ],
   "source": [
    "count = data['count']\n",
    "count"
   ]
  },
  {
   "cell_type": "code",
   "execution_count": 22,
   "id": "e0880a96-fe57-4b54-9fb9-99b9d3d643ab",
   "metadata": {},
   "outputs": [],
   "source": [
    "data = get_json(\n",
    "    url = f'{api_url}/{table}', \n",
    "    params = {'offset':0, 'limit':count}\n",
    ")"
   ]
  },
  {
   "cell_type": "code",
   "execution_count": 23,
   "id": "304a617b-9a99-4a09-ace3-71bcb8ef74b9",
   "metadata": {},
   "outputs": [],
   "source": [
    "path = f'./raw/{table}'\n",
    "create_folder(path)\n",
    "filename = table\n",
    "\n",
    "save_json(path, filename, data)"
   ]
  },
  {
   "cell_type": "markdown",
   "id": "5bd94df7-35c0-435f-8bfa-402c092254d3",
   "metadata": {},
   "source": [
    "---\n",
    "## DESCARGA DE DATOS"
   ]
  },
  {
   "cell_type": "code",
   "execution_count": null,
   "id": "5b94a0e0-84e6-45f9-acf5-696f71cce36e",
   "metadata": {},
   "outputs": [],
   "source": [
    "# save all pokemon"
   ]
  },
  {
   "cell_type": "code",
   "execution_count": null,
   "id": "8f57342e-c2ac-46ba-a6d1-c8b311fe7d99",
   "metadata": {
    "scrolled": true
   },
   "outputs": [],
   "source": [
    "get_data('pokemon', 1, 2000)"
   ]
  },
  {
   "cell_type": "code",
   "execution_count": null,
   "id": "eca33c36-932f-429b-8a6c-26975ffdcf54",
   "metadata": {},
   "outputs": [],
   "source": [
    "# save all pokemon species"
   ]
  },
  {
   "cell_type": "code",
   "execution_count": null,
   "id": "1a260f22-bb86-4cb1-a370-5f55d233b731",
   "metadata": {
    "scrolled": true
   },
   "outputs": [],
   "source": [
    "get_data('pokemon-species', 1, 2000)"
   ]
  },
  {
   "cell_type": "code",
   "execution_count": null,
   "id": "305a5406-f902-43db-9cf7-f4674aaa62c9",
   "metadata": {},
   "outputs": [],
   "source": [
    "# save all pokemon forms"
   ]
  },
  {
   "cell_type": "code",
   "execution_count": null,
   "id": "8a4068e9-394c-4175-9013-a8cda7e34fd4",
   "metadata": {
    "scrolled": true
   },
   "outputs": [],
   "source": [
    "get_data('pokemon-form', 1, 1025)"
   ]
  }
 ],
 "metadata": {
  "kernelspec": {
   "display_name": "Python 3 (ipykernel)",
   "language": "python",
   "name": "python3"
  },
  "language_info": {
   "codemirror_mode": {
    "name": "ipython",
    "version": 3
   },
   "file_extension": ".py",
   "mimetype": "text/x-python",
   "name": "python",
   "nbconvert_exporter": "python",
   "pygments_lexer": "ipython3",
   "version": "3.12.2"
  }
 },
 "nbformat": 4,
 "nbformat_minor": 5
}
